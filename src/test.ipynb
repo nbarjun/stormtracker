{
 "cells": [
  {
   "cell_type": "code",
   "execution_count": 2,
   "id": "5067d7ff-43d5-4a9b-a3b1-c7a1ef50d247",
   "metadata": {},
   "outputs": [],
   "source": [
    "import scafet as storm"
   ]
  }
 ],
 "metadata": {
  "kernelspec": {
   "display_name": "Python 3 (ipykernel)",
   "language": "python",
   "name": "python3"
  },
  "language_info": {
   "codemirror_mode": {
    "name": "ipython",
    "version": 3
   },
   "file_extension": ".py",
   "mimetype": "text/x-python",
   "name": "python",
   "nbconvert_exporter": "python",
   "pygments_lexer": "ipython3",
   "version": "3.13.3"
  }
 },
 "nbformat": 4,
 "nbformat_minor": 5
}
